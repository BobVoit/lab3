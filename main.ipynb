{
 "cells": [
  {
   "cell_type": "markdown",
   "metadata": {},
   "source": [
    "# Подготовка данных"
   ]
  },
  {
   "cell_type": "code",
   "execution_count": 56,
   "metadata": {},
   "outputs": [
    {
     "name": "stdout",
     "output_type": "stream",
     "text": [
      "     ID  Year_Birth   Income  Kidhome  Teenhome  Recency  MntWines  MntFruits  \\\n",
      "0  5524        1957  58138.0        0         0       58       635         88   \n",
      "1  2174        1954  46344.0        1         1       38        11          1   \n",
      "2  4141        1965  71613.0        0         0       26       426         49   \n",
      "\n",
      "   MntMeatProducts  MntFishProducts  ...  NumWebVisitsMonth  AcceptedCmp3  \\\n",
      "0              546              172  ...                  7             0   \n",
      "1                6                2  ...                  5             0   \n",
      "2              127              111  ...                  4             0   \n",
      "\n",
      "   AcceptedCmp4  AcceptedCmp5  AcceptedCmp1  AcceptedCmp2  Complain  \\\n",
      "0             0             0             0             0         0   \n",
      "1             0             0             0             0         0   \n",
      "2             0             0             0             0         0   \n",
      "\n",
      "   Z_CostContact  Z_Revenue  Response  \n",
      "0              3         11         1  \n",
      "1              3         11         0  \n",
      "2              3         11         0  \n",
      "\n",
      "[3 rows x 26 columns]\n"
     ]
    }
   ],
   "source": [
    "import pandas as pd\n",
    "import numpy as np\n",
    "\n",
    "df = pd.read_csv(\"marketing_campaign.csv\", sep=\"\\t\")\n",
    "\n",
    "df.drop([\"Marital_Status\", \"Education\", \"Dt_Customer\"], axis=1, inplace=True)\n",
    "# df = df.fillna(0, inplace=True)\n",
    "df = df[np.isfinite(df).all(1)]\n",
    "\n",
    "print(df.head(3))\n"
   ]
  },
  {
   "cell_type": "markdown",
   "metadata": {},
   "source": [
    "# Метод k средних"
   ]
  },
  {
   "cell_type": "code",
   "execution_count": 57,
   "metadata": {},
   "outputs": [
    {
     "name": "stdout",
     "output_type": "stream",
     "text": [
      "[2 0 2 ... 2 2 0]\n"
     ]
    }
   ],
   "source": [
    "from sklearn.preprocessing import StandardScaler \n",
    "from sklearn.cluster import KMeans\n",
    "from sklearn.cluster import MiniBatchKMeans\n",
    "\n",
    "# iris = datasets.load_iris() \n",
    "# features = iris.data\n",
    "\n",
    "# Стандартизировать признаки\n",
    "scaler = StandardScaler()\n",
    "features_std = scaler.fit_transform(np.array(df.values))\n",
    "\n",
    "# Создать объект k средних\n",
    "# cluster = KMeans(n_clusters=5, random_state=0, n_init=\"auto\")\n",
    "cluster = MiniBatchKMeans(n_clusters=3, random_state=0, batch_size=100, n_init=\"auto\")\n",
    "\n",
    "# Натренировать модель\n",
    "model = cluster.fit(features_std)\n",
    "print(model.labels_)\n"
   ]
  },
  {
   "cell_type": "markdown",
   "metadata": {},
   "source": [
    "# Метод сдвига к среднему"
   ]
  },
  {
   "cell_type": "code",
   "execution_count": 58,
   "metadata": {},
   "outputs": [
    {
     "name": "stdout",
     "output_type": "stream",
     "text": [
      "[0 0 0 ... 0 0 0]\n"
     ]
    }
   ],
   "source": [
    "from sklearn.preprocessing import StandardScaler \n",
    "from sklearn.cluster import MeanShift\n",
    "\n",
    "# Стандартизировать признаки\n",
    "scaler = StandardScaler()\n",
    "features_std = scaler.fit_transform(df)\n",
    "\n",
    "# Создать объект кластеризации методом сдвига к среднему \n",
    "cluster = MeanShift(n_jobs=-1)\n",
    "\n",
    "# Натренировать модель\n",
    "model = cluster.fit(features_std)\n",
    "print(model.labels_)"
   ]
  },
  {
   "cell_type": "markdown",
   "metadata": {},
   "source": [
    "# Метод DBSCAN"
   ]
  },
  {
   "cell_type": "code",
   "execution_count": 60,
   "metadata": {},
   "outputs": [
    {
     "name": "stdout",
     "output_type": "stream",
     "text": [
      "[ 0  0  0  0  0  0  0  0  0  0  0  0  0  0 -1 -1  0  0  0  0  0  0  0  0\n",
      "  0  0  0  0  0  0  0  0 -1 -1  0  0  0  0  0  0  0 -1  0  0  0  0  0  0\n",
      "  0  0  1  1  1  1  1  1 -1 -1  1 -1 -1  1 -1  1  1  1  1  1 -1  1  1  1\n",
      " -1  1  1  1  1  1  1  1  1  1  1  1  1 -1  1 -1  1  1  1  1  1 -1  1  1\n",
      "  1  1 -1  1 -1  1  1  1  1 -1 -1 -1 -1 -1  1  1  1  1 -1  1  1 -1 -1 -1\n",
      "  1  1 -1  1  1 -1  1  1  1 -1 -1 -1  1  1  1 -1 -1  1  1  1  1  1  1  1\n",
      "  1  1  1  1 -1  1]\n"
     ]
    }
   ],
   "source": [
    "from sklearn.preprocessing import StandardScaler \n",
    "from sklearn.cluster import DBSCAN\n",
    "\n",
    "# Стандартизировать признаки \n",
    "scaler = StandardScaler()\n",
    "features_std = scaler.fit_transform(features)\n",
    "\n",
    "# Создать объект плотностной кластеризации dbscan \n",
    "cluster = DBSCAN(n_jobs=-1)\n",
    "\n",
    "# Натренировать модель\n",
    "model = cluster.fit(features_std)\n",
    "\n",
    "print(model.labels_)"
   ]
  },
  {
   "cell_type": "markdown",
   "metadata": {},
   "source": [
    "# Метод иерархического слияния"
   ]
  },
  {
   "cell_type": "code",
   "execution_count": null,
   "metadata": {},
   "outputs": [],
   "source": [
    "from sklearn.preprocessing import StandardScaler \n",
    "from sklearn.cluster import AgglomerativeClustering\n",
    "\n",
    "\n",
    "# Стандартизировать признаки \n",
    "scaler = StandardScaler()\n",
    "features_std = scaler.fit_transform(features)\n",
    "\n",
    "# Создать объект агломеративной кластеризации \n",
    "cluster = AgglomerativeClustering(n_clusters=3)\n",
    "\n",
    "# Натренировать модель\n",
    "model = cluster.fit(features std)\n",
    "\n",
    "print(model.labels_)"
   ]
  }
 ],
 "metadata": {
  "kernelspec": {
   "display_name": "Python 3",
   "language": "python",
   "name": "python3"
  },
  "language_info": {
   "codemirror_mode": {
    "name": "ipython",
    "version": 3
   },
   "file_extension": ".py",
   "mimetype": "text/x-python",
   "name": "python",
   "nbconvert_exporter": "python",
   "pygments_lexer": "ipython3",
   "version": "3.11.5"
  }
 },
 "nbformat": 4,
 "nbformat_minor": 2
}
